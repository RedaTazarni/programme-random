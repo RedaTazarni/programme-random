{
 "cells": [
  {
   "cell_type": "code",
   "execution_count": 4,
   "id": "d22c05fe-d264-4db5-a6cc-bb086bb7f3a1",
   "metadata": {},
   "outputs": [
    {
     "name": "stdin",
     "output_type": "stream",
     "text": [
      " Guess :  9\n"
     ]
    },
    {
     "name": "stdout",
     "output_type": "stream",
     "text": [
      "The number is higher\n"
     ]
    },
    {
     "name": "stdin",
     "output_type": "stream",
     "text": [
      " Guess :  2\n"
     ]
    },
    {
     "name": "stdout",
     "output_type": "stream",
     "text": [
      "The number is Lower\n"
     ]
    },
    {
     "name": "stdin",
     "output_type": "stream",
     "text": [
      " Guess :  5\n"
     ]
    },
    {
     "name": "stdout",
     "output_type": "stream",
     "text": [
      "you guessed it\n"
     ]
    }
   ],
   "source": [
    "import numpy as np \n",
    "M=np.random.randint(1,10,1)\n",
    "x=0\n",
    "while (x!=M): \n",
    "    x=int(input(\" Guess : \"))\n",
    "    if  x>M :\n",
    "        print(\"The number is higher\")\n",
    "    if  x<M : \n",
    "        print(\"The number is Lower\")\n",
    "print(\"you guessed it\")\n",
    "\n",
    "\n",
    "    "
   ]
  },
  {
   "cell_type": "code",
   "execution_count": null,
   "id": "8e9e42a3-cdf0-4b7d-b2ab-c28a924fddc6",
   "metadata": {},
   "outputs": [],
   "source": []
  },
  {
   "cell_type": "code",
   "execution_count": null,
   "id": "2b8636c0-2e9b-4708-8310-3ce1a9ac8526",
   "metadata": {},
   "outputs": [],
   "source": []
  },
  {
   "cell_type": "code",
   "execution_count": null,
   "id": "8741db98-d9de-45bf-a33e-06515255b919",
   "metadata": {},
   "outputs": [],
   "source": []
  }
 ],
 "metadata": {
  "kernelspec": {
   "display_name": "Python 3 (ipykernel)",
   "language": "python",
   "name": "python3"
  },
  "language_info": {
   "codemirror_mode": {
    "name": "ipython",
    "version": 3
   },
   "file_extension": ".py",
   "mimetype": "text/x-python",
   "name": "python",
   "nbconvert_exporter": "python",
   "pygments_lexer": "ipython3",
   "version": "3.12.4"
  }
 },
 "nbformat": 4,
 "nbformat_minor": 5
}
