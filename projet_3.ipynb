{
 "cells": [
  {
   "cell_type": "code",
   "execution_count": 3,
   "id": "96c3b54a-79cc-4c78-9a53-9357d8fb324a",
   "metadata": {},
   "outputs": [
    {
     "name": "stdin",
     "output_type": "stream",
     "text": [
      "donner un nbre  à\n"
     ]
    },
    {
     "name": "stdout",
     "output_type": "stream",
     "text": [
      "donner un nbr entier \n"
     ]
    },
    {
     "name": "stdin",
     "output_type": "stream",
     "text": [
      "donner un nbre  0\n"
     ]
    },
    {
     "name": "stdout",
     "output_type": "stream",
     "text": [
      "donner un nbre entier deff a 0\n"
     ]
    },
    {
     "name": "stdin",
     "output_type": "stream",
     "text": [
      "donner un nbre   \n"
     ]
    },
    {
     "name": "stdout",
     "output_type": "stream",
     "text": [
      "donner un nbr entier \n"
     ]
    },
    {
     "name": "stdin",
     "output_type": "stream",
     "text": [
      "donner un nbre  8\n"
     ]
    },
    {
     "name": "stdout",
     "output_type": "stream",
     "text": [
      "[4 1 9 7 2 8 5 3]\n"
     ]
    },
    {
     "name": "stdin",
     "output_type": "stream",
     "text": [
      "donner un nbre  hh\n"
     ]
    },
    {
     "name": "stdout",
     "output_type": "stream",
     "text": [
      "donner un nbr entier \n"
     ]
    },
    {
     "name": "stdin",
     "output_type": "stream",
     "text": [
      "donner un nbre  \n"
     ]
    },
    {
     "name": "stdout",
     "output_type": "stream",
     "text": [
      "donner un nbr entier \n"
     ]
    },
    {
     "name": "stdin",
     "output_type": "stream",
     "text": [
      "donner un nbre  Exit\n"
     ]
    },
    {
     "name": "stdout",
     "output_type": "stream",
     "text": [
      "donner un nbr entier \n"
     ]
    },
    {
     "name": "stdin",
     "output_type": "stream",
     "text": [
      "donner un nbre  12\n"
     ]
    },
    {
     "name": "stdout",
     "output_type": "stream",
     "text": [
      "[6 6 7 9 5 3 5 3 5 7 3 8]\n"
     ]
    },
    {
     "name": "stdin",
     "output_type": "stream",
     "text": [
      "donner un nbre  exit\n"
     ]
    }
   ],
   "source": [
    "import numpy as np \n",
    "while True :\n",
    "     try:\n",
    "        a=input(\"donner un nbre \")\n",
    "        if a==\"exit\":\n",
    "            break\n",
    "        elif int(a)==0 : \n",
    "            print(\"donner un nbre entier deff a 0\")\n",
    "        else :\n",
    "            M=np.random.randint(1,10,int(a))\n",
    "            print(M)\n",
    "     except : \n",
    "        print(\"donner un nbr entier \")\n",
    "\n",
    "        "
   ]
  },
  {
   "cell_type": "code",
   "execution_count": null,
   "id": "d41aa472-60d9-4552-aed2-771df039186b",
   "metadata": {},
   "outputs": [],
   "source": []
  },
  {
   "cell_type": "code",
   "execution_count": null,
   "id": "35922e91-7ca8-42bb-aa16-9d91e17578aa",
   "metadata": {},
   "outputs": [],
   "source": []
  }
 ],
 "metadata": {
  "kernelspec": {
   "display_name": "Python 3 (ipykernel)",
   "language": "python",
   "name": "python3"
  },
  "language_info": {
   "codemirror_mode": {
    "name": "ipython",
    "version": 3
   },
   "file_extension": ".py",
   "mimetype": "text/x-python",
   "name": "python",
   "nbconvert_exporter": "python",
   "pygments_lexer": "ipython3",
   "version": "3.12.4"
  }
 },
 "nbformat": 4,
 "nbformat_minor": 5
}
